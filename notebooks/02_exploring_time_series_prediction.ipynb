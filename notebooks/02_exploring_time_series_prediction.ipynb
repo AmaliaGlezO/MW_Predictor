{
 "cells": [
  {
   "cell_type": "markdown",
   "metadata": {},
   "source": [
    "Introducción: ¿Por qué analizar patrones estacionarios en series temporales para predecir el déficit de energía?\n",
    "Antes de construir un modelo predictivo (como ARIMA, SARIMA o Prophet), es crucial verificar si la serie temporal asociada al déficit de energía cumple con la estacionariedad. Esto se debe a que:\n",
    "\n",
    "Los modelos clásicos de series temporales asumen estacionariedad.\n",
    "\n",
    "Si la serie tiene tendencias o estacionalidad, los modelos pueden generar predicciones sesgadas o poco confiables.\n",
    "\n",
    "Ejemplo: Si la demanda_maxima aumenta con el tiempo (tendencia creciente), un modelo ARIMA sin ajustes fallará.\n",
    "\n",
    "Identificar patrones ayuda a elegir el preprocesamiento correcto.\n",
    "\n",
    "Diferenciación para eliminar tendencias.\n",
    "\n",
    "Transformaciones (log, Box-Cox) para estabilizar la varianza.\n",
    "\n",
    "Descomposición para separar estacionalidad.\n",
    "\n",
    "Evitar sobreajuste o subajuste.\n",
    "\n",
    "Una serie no estacionaria puede llevar a modelos que capturen ruido en lugar de señales reales.\n",
    "\n",
    "Análisis de Estacionariedad en tus Datos\n",
    "Vamos a evaluar la estacionariedad para una variable clave, como deficit_predicho o demanda_maxima, usando métodos estadísticos y visuales.\n",
    "\n",
    "1. Visualización de la Serie Temporal\n",
    "Graficamos la serie para inspeccionar:\n",
    "\n",
    "Tendencia: ¿Aumenta/disminuye con el tiempo?\n",
    "\n",
    "Estacionalidad: ¿Patrones cíclicos (diarios, semanales, mensuales)?\n",
    "\n",
    "Ruido: ¿Variabilidad aleatoria?"
   ]
  },
  {
   "cell_type": "code",
   "execution_count": null,
   "metadata": {},
   "outputs": [],
   "source": [
    "import pandas as pd\n",
    "import matplotlib.pyplot as plt\n",
    "\n",
    "\n",
    "file_path = '../data/processed/cleaned_energy_data.csv'\n",
    "# Cargar datos (ejemplo)\n",
    "df = pd.read_csv(file_path, parse_dates=['fecha'], index_col='fecha')\n",
    "\n",
    "# Graficar demanda máxima y déficit predicho\n",
    "df[['demanda_maxima', 'deficit_predicho']].plot(figsize=(12, 6))\n",
    "plt.title('Demanda Máxima vs Déficit Predicho')\n",
    "plt.show()"
   ]
  }
 ],
 "metadata": {
  "language_info": {
   "name": "python"
  }
 },
 "nbformat": 4,
 "nbformat_minor": 2
}
